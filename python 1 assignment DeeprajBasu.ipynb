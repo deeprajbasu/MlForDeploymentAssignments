{
 "cells": [
  {
   "cell_type": "code",
   "execution_count": 1,
   "metadata": {},
   "outputs": [
    {
     "name": "stdout",
     "output_type": "stream",
     "text": [
      "python 1 assignment\n"
     ]
    }
   ],
   "source": [
    "#Deepraj Basu\n",
    "\n",
    "## Session 1\n",
    "## Assignment 1 Question\n",
    "\n",
    "print(\"python 1 assignment\")"
   ]
  },
  {
   "cell_type": "code",
   "execution_count": 9,
   "metadata": {},
   "outputs": [
    {
     "name": "stdout",
     "output_type": "stream",
     "text": [
      "2002,2009,2016,2023,2037,2044,2051,2058,2072,2079,2086,2093,2107,2114,2121,2128,2142,2149,2156,2163,2177,2184,2191,2198,2212,2219,2226,2233,2247,2254,2261,2268,2282,2289,2296,2303,2317,2324,2331,2338,2352,2359,2366,2373,2387,2394,2401,2408,2422,2429,2436,2443,2457,2464,2471,2478,2492,2499,2506,2513,2527,2534,2541,2548,2562,2569,2576,2583,2597,2604,2611,2618,2632,2639,2646,2653,2667,2674,2681,2688,2702,2709,2716,2723,2737,2744,2751,2758,2772,2779,2786,2793,2807,2814,2821,2828,2842,2849,2856,2863,2877,2884,2891,2898,2912,2919,2926,2933,2947,2954,2961,2968,2982,2989,2996,2002,2009,2016,2023,2037,2044,2051,2058,2072,2079,2086,2093,2107,2114,2121,2128,2142,2149,2156,2163,2177,2184,2191,2198,2212,2219,2226,2233,2247,2254,2261,2268,2282,2289,2296,2303,2317,2324,2331,2338,2352,2359,2366,2373,2387,2394,2401,2408,2422,2429,2436,2443,2457,2464,2471,2478,2492,2499,2506,2513,2527,2534,2541,2548,2562,2569,2576,2583,2597,2604,2611,2618,2632,2639,2646,2653,2667,2674,2681,2688,2702,2709,2716,2723,2737,2744,2751,2758,2772,2779,2786,2793,2807,2814,2821,2828,2842,2849,2856,2863,2877,2884,2891,2898,2912,2919,2926,2933,2947,2954,2961,2968,2982,2989,2996,"
     ]
    }
   ],
   "source": [
    "# t1=[]\n",
    "for i in range(2000,3001):\n",
    "    if i%7==0 and i%5 != 0 :\n",
    "        t1.append(i)\n",
    "for i in range(len(t1)):\n",
    "    print(t1[i],end =\",\")\n",
    "    \n",
    "    "
   ]
  },
  {
   "cell_type": "code",
   "execution_count": 3,
   "metadata": {},
   "outputs": [
    {
     "name": "stdout",
     "output_type": "stream",
     "text": [
      "enter first name : deepraj\n",
      "enter last name  : basu\n",
      "basu , deepraj\n"
     ]
    }
   ],
   "source": [
    "a=input(\"enter first name : \")\n",
    "b=input(\"enter last name  : \")\n",
    "\n",
    "print(b,\",\",a)"
   ]
  },
  {
   "cell_type": "code",
   "execution_count": 4,
   "metadata": {},
   "outputs": [
    {
     "name": "stdout",
     "output_type": "stream",
     "text": [
      "volume is :  7238.223359999999\n"
     ]
    }
   ],
   "source": [
    "d = 12\n",
    "V=4/3 *3.14159*d**3\n",
    "\n",
    "print(\"volume is : \",V)"
   ]
  },
  {
   "cell_type": "code",
   "execution_count": 5,
   "metadata": {},
   "outputs": [
    {
     "name": "stdout",
     "output_type": "stream",
     "text": [
      "enter multiple numbers separated by commas: 4,5,4,6,5,5,365,143561,4,1\n"
     ]
    },
    {
     "data": {
      "text/plain": [
       "(['4', '5', '4', '6', '5', '5', '365', '143561', '4', '1'], list)"
      ]
     },
     "execution_count": 5,
     "metadata": {},
     "output_type": "execute_result"
    }
   ],
   "source": [
    "a = input(\"enter multiple numbers separated by commas: \")\n",
    "b = list(a.split(\",\"))\n",
    "\n",
    "b, type(b)"
   ]
  },
  {
   "cell_type": "code",
   "execution_count": null,
   "metadata": {},
   "outputs": [],
   "source": []
  },
  {
   "cell_type": "code",
   "execution_count": 6,
   "metadata": {},
   "outputs": [],
   "source": [
    "# i=1\n",
    "# n=1\n",
    "\n",
    "# for i  in range(16):\n",
    "    \n",
    "#     if i >= 7:\n",
    "#         while n < = i:\n",
    "#             print(\"X\")\n",
    "#             n=n+1\n",
    "        \n",
    "#     if i < 7:\n",
    "#         while n > i:\n",
    "#             print(\"X\")\n",
    "#             n=n-1\n",
    "#     print('         ll      ')\n",
    "\n"
   ]
  },
  {
   "cell_type": "code",
   "execution_count": 7,
   "metadata": {},
   "outputs": [
    {
     "name": "stdout",
     "output_type": "stream",
     "text": [
      "enter a stringHELLOWORLD\n",
      "DLROWOLLEH\n"
     ]
    }
   ],
   "source": [
    "a = input(\"enter a string\")\n",
    "print(a[::-1])\n"
   ]
  },
  {
   "cell_type": "code",
   "execution_count": 8,
   "metadata": {},
   "outputs": [
    {
     "name": "stdout",
     "output_type": "stream",
     "text": [
      "WE, THE PEOPLE OF INDIA,\n",
      " \t having solemnly resolved to constitute India into a SOVEREIGN, \n",
      " \t \t SOCIALIST, SECULAR, DEMOCRATIC REPUBLIC   \n",
      " \t \t   and to secure to all its citizens\n"
     ]
    }
   ],
   "source": [
    "a = \"WE, THE PEOPLE OF INDIA,\\n \\t having solemnly resolved to constitute India into a SOVEREIGN, \\n \\t \\t SOCIALIST, SECULAR, DEMOCRATIC REPUBLIC   \\n \\t \\t   and to secure to all its citizens\"\n",
    "print(a)"
   ]
  },
  {
   "cell_type": "code",
   "execution_count": null,
   "metadata": {},
   "outputs": [],
   "source": []
  },
  {
   "cell_type": "code",
   "execution_count": null,
   "metadata": {},
   "outputs": [],
   "source": []
  }
 ],
 "metadata": {
  "kernelspec": {
   "display_name": "Python 3",
   "language": "python",
   "name": "python3"
  },
  "language_info": {
   "codemirror_mode": {
    "name": "ipython",
    "version": 3
   },
   "file_extension": ".py",
   "mimetype": "text/x-python",
   "name": "python",
   "nbconvert_exporter": "python",
   "pygments_lexer": "ipython3",
   "version": "3.7.3"
  },
  "widgets": {
   "application/vnd.jupyter.widget-state+json": {
    "state": {},
    "version_major": 2,
    "version_minor": 0
   }
  }
 },
 "nbformat": 4,
 "nbformat_minor": 2
}
